{
 "cells": [
  {
   "cell_type": "code",
   "execution_count": 78,
   "metadata": {},
   "outputs": [],
   "source": [
    "# Import libraries\n",
    "import pandas as pd\n",
    "import numpy as np\n",
    "import json\n",
    "import matplotlib.pyplot as plt\n",
    "\n",
    "from sklearn.model_selection import train_test_split\n",
    "from sklearn.metrics import mean_squared_error\n",
    "\n",
    "from tensorflow.keras.layers import Input, Dense\n",
    "from tensorflow.keras.models import Model\n",
    "from keras.layers import Input, Embedding, Reshape, Dot, Concatenate, Dense, Dropout\n",
    "\n",
    "from scipy.sparse import coo_matrix"
   ]
  },
  {
   "cell_type": "code",
   "execution_count": 79,
   "metadata": {},
   "outputs": [
    {
     "name": "stderr",
     "output_type": "stream",
     "text": [
      "C:\\Users\\Usuario\\AppData\\Local\\Temp\\ipykernel_17552\\211700579.py:3: DtypeWarning: Columns (0,1,2,3) have mixed types. Specify dtype option on import or set low_memory=False.\n",
      "  df_ratings = pd.read_csv(file_path, names=columns).drop(0)\n"
     ]
    },
    {
     "data": {
      "text/html": [
       "<div>\n",
       "<style scoped>\n",
       "    .dataframe tbody tr th:only-of-type {\n",
       "        vertical-align: middle;\n",
       "    }\n",
       "\n",
       "    .dataframe tbody tr th {\n",
       "        vertical-align: top;\n",
       "    }\n",
       "\n",
       "    .dataframe thead th {\n",
       "        text-align: right;\n",
       "    }\n",
       "</style>\n",
       "<table border=\"1\" class=\"dataframe\">\n",
       "  <thead>\n",
       "    <tr style=\"text-align: right;\">\n",
       "      <th></th>\n",
       "      <th>user_id</th>\n",
       "      <th>movie_id</th>\n",
       "      <th>rating</th>\n",
       "      <th>timestamp</th>\n",
       "    </tr>\n",
       "  </thead>\n",
       "  <tbody>\n",
       "    <tr>\n",
       "      <th>1</th>\n",
       "      <td>1</td>\n",
       "      <td>110</td>\n",
       "      <td>1.0</td>\n",
       "      <td>1425941529</td>\n",
       "    </tr>\n",
       "    <tr>\n",
       "      <th>2</th>\n",
       "      <td>1</td>\n",
       "      <td>147</td>\n",
       "      <td>4.5</td>\n",
       "      <td>1425942435</td>\n",
       "    </tr>\n",
       "    <tr>\n",
       "      <th>3</th>\n",
       "      <td>1</td>\n",
       "      <td>858</td>\n",
       "      <td>5.0</td>\n",
       "      <td>1425941523</td>\n",
       "    </tr>\n",
       "    <tr>\n",
       "      <th>4</th>\n",
       "      <td>1</td>\n",
       "      <td>1246</td>\n",
       "      <td>5.0</td>\n",
       "      <td>1425941556</td>\n",
       "    </tr>\n",
       "    <tr>\n",
       "      <th>5</th>\n",
       "      <td>1</td>\n",
       "      <td>1968</td>\n",
       "      <td>4.0</td>\n",
       "      <td>1425942148</td>\n",
       "    </tr>\n",
       "  </tbody>\n",
       "</table>\n",
       "</div>"
      ],
      "text/plain": [
       "  user_id movie_id rating   timestamp\n",
       "1       1      110    1.0  1425941529\n",
       "2       1      147    4.5  1425942435\n",
       "3       1      858    5.0  1425941523\n",
       "4       1     1246    5.0  1425941556\n",
       "5       1     1968    4.0  1425942148"
      ]
     },
     "execution_count": 79,
     "metadata": {},
     "output_type": "execute_result"
    }
   ],
   "source": [
    "file_path = '../data/ratings_filtered.csv'\n",
    "columns = ['user_id', 'movie_id', 'rating', 'timestamp']\n",
    "df_ratings = pd.read_csv(file_path, names=columns).drop(0)\n",
    "df_ratings.head(5)"
   ]
  },
  {
   "cell_type": "code",
   "execution_count": 80,
   "metadata": {},
   "outputs": [
    {
     "name": "stdout",
     "output_type": "stream",
     "text": [
      "<class 'pandas.core.frame.DataFrame'>\n",
      "RangeIndex: 11016557 entries, 1 to 11016557\n",
      "Data columns (total 4 columns):\n",
      " #   Column     Dtype \n",
      "---  ------     ----- \n",
      " 0   user_id    object\n",
      " 1   movie_id   object\n",
      " 2   rating     object\n",
      " 3   timestamp  object\n",
      "dtypes: object(4)\n",
      "memory usage: 336.2+ MB\n"
     ]
    }
   ],
   "source": [
    "df_ratings.info()"
   ]
  },
  {
   "cell_type": "code",
   "execution_count": 81,
   "metadata": {},
   "outputs": [
    {
     "data": {
      "text/plain": [
       "user_id      0\n",
       "movie_id     0\n",
       "rating       0\n",
       "timestamp    0\n",
       "dtype: int64"
      ]
     },
     "execution_count": 81,
     "metadata": {},
     "output_type": "execute_result"
    }
   ],
   "source": [
    "df_ratings.isnull().sum()"
   ]
  },
  {
   "cell_type": "code",
   "execution_count": 82,
   "metadata": {},
   "outputs": [
    {
     "data": {
      "text/plain": [
       "(11016557, 4)"
      ]
     },
     "execution_count": 82,
     "metadata": {},
     "output_type": "execute_result"
    }
   ],
   "source": [
    "df_ratings.shape"
   ]
  },
  {
   "cell_type": "code",
   "execution_count": 83,
   "metadata": {},
   "outputs": [
    {
     "name": "stdout",
     "output_type": "stream",
     "text": [
      "<class 'pandas.core.frame.DataFrame'>\n",
      "RangeIndex: 11016557 entries, 1 to 11016557\n",
      "Data columns (total 4 columns):\n",
      " #   Column     Dtype \n",
      "---  ------     ----- \n",
      " 0   user_id    object\n",
      " 1   movie_id   object\n",
      " 2   rating     object\n",
      " 3   timestamp  object\n",
      "dtypes: object(4)\n",
      "memory usage: 336.2+ MB\n"
     ]
    }
   ],
   "source": [
    "df_ratings.info()"
   ]
  },
  {
   "cell_type": "code",
   "execution_count": 65,
   "metadata": {},
   "outputs": [
    {
     "name": "stdout",
     "output_type": "stream",
     "text": [
      "Shape User-Ratings unfiltered:\t(11016557, 4)\n",
      "Shape User-Ratings filtered:\t(1460289, 4)\n"
     ]
    }
   ],
   "source": [
    "# Filter sparse movies\n",
    "#min_movie_ratings = 10000\n",
    "#filter_movies = (df_ratings['movie_id'].value_counts() > min_movie_ratings)\n",
    "#filter_movies = filter_movies[filter_movies].index.tolist()\n",
    "#\n",
    "## Filter sparse users\n",
    "#min_user_ratings = 200\n",
    "#filter_users = (df_ratings['user_id'].value_counts() > min_user_ratings)\n",
    "#filter_users = filter_users[filter_users].index.tolist()\n",
    "#\n",
    "## Actual filtering\n",
    "#df_filterd = df_ratings[(df_ratings['movie_id'].isin(filter_movies)) & (df_ratings['user_id'].isin(filter_users))]\n",
    "#del filter_movies, filter_users, min_movie_ratings, min_user_ratings\n",
    "#print('Shape User-Ratings unfiltered:\\t{}'.format(df_ratings.shape))\n",
    "#print('Shape User-Ratings filtered:\\t{}'.format(df_filterd.shape))"
   ]
  },
  {
   "cell_type": "code",
   "execution_count": 84,
   "metadata": {},
   "outputs": [],
   "source": [
    "df_filterd = df_ratings[:7000000]\n",
    "df_filterd = df_filterd.drop('timestamp', axis=1).sample(frac=1).reset_index(drop=True)"
   ]
  },
  {
   "cell_type": "code",
   "execution_count": 85,
   "metadata": {},
   "outputs": [
    {
     "name": "stdout",
     "output_type": "stream",
     "text": [
      "<class 'pandas.core.frame.DataFrame'>\n",
      "RangeIndex: 7000000 entries, 0 to 6999999\n",
      "Data columns (total 3 columns):\n",
      " #   Column    Dtype \n",
      "---  ------    ----- \n",
      " 0   user_id   object\n",
      " 1   movie_id  object\n",
      " 2   rating    object\n",
      "dtypes: object(3)\n",
      "memory usage: 160.2+ MB\n"
     ]
    }
   ],
   "source": [
    "df_filterd.info()"
   ]
  },
  {
   "cell_type": "markdown",
   "metadata": {},
   "source": [
    "# MODELAMIENTO"
   ]
  },
  {
   "cell_type": "code",
   "execution_count": 86,
   "metadata": {},
   "outputs": [],
   "source": [
    "#df_train, df_test = train_test_split(df_filterd, test_size=0.2, random_state = 42)\n",
    "# Testingsize\n",
    "n = 100000\n",
    "\n",
    "# Split train- & testset\n",
    "df_train = df_filterd[:-n]\n",
    "df_test = df_filterd[-n:]"
   ]
  },
  {
   "cell_type": "code",
   "execution_count": null,
   "metadata": {},
   "outputs": [],
   "source": [
    "# Convert columns to integers\n",
    "df_train['user_id'] = df_train['user_id'].astype(np.int64)\n",
    "df_train['movie_id'] = df_train['movie_id'].astype(np.int64)\n",
    "df_train['rating'] = df_train['rating'].astype(np.float64)\n",
    "\n",
    "df_test['user_id'] = df_test['user_id'].astype(np.int64)\n",
    "df_test['movie_id'] = df_test['movie_id'].astype(np.int64)\n",
    "df_test['rating'] = df_test['rating'].astype(np.float64)"
   ]
  },
  {
   "cell_type": "code",
   "execution_count": 87,
   "metadata": {},
   "outputs": [
    {
     "name": "stdout",
     "output_type": "stream",
     "text": [
      "<class 'pandas.core.frame.DataFrame'>\n",
      "RangeIndex: 6900000 entries, 0 to 6899999\n",
      "Data columns (total 3 columns):\n",
      " #   Column    Dtype \n",
      "---  ------    ----- \n",
      " 0   user_id   object\n",
      " 1   movie_id  object\n",
      " 2   rating    object\n",
      "dtypes: object(3)\n",
      "memory usage: 157.9+ MB\n"
     ]
    }
   ],
   "source": [
    "df_train.info()"
   ]
  },
  {
   "cell_type": "code",
   "execution_count": 89,
   "metadata": {},
   "outputs": [
    {
     "name": "stdout",
     "output_type": "stream",
     "text": [
      "<class 'pandas.core.frame.DataFrame'>\n",
      "RangeIndex: 100000 entries, 6900000 to 6999999\n",
      "Data columns (total 3 columns):\n",
      " #   Column    Non-Null Count   Dtype \n",
      "---  ------    --------------   ----- \n",
      " 0   user_id   100000 non-null  object\n",
      " 1   movie_id  100000 non-null  object\n",
      " 2   rating    100000 non-null  object\n",
      "dtypes: object(3)\n",
      "memory usage: 2.3+ MB\n"
     ]
    }
   ],
   "source": [
    "df_test.info()"
   ]
  },
  {
   "cell_type": "code",
   "execution_count": 90,
   "metadata": {},
   "outputs": [],
   "source": [
    "# Create user- & movie-id mapping\n",
    "user_id_mapping = {id:i for i, id in enumerate(df_filterd['user_id'].unique())}\n",
    "movie_id_mapping = {id:i for i, id in enumerate(df_filterd['movie_id'].unique())}\n",
    "\n",
    "# Create correctly mapped train- & testset\n",
    "train_user_data = df_train['user_id'].map(user_id_mapping)\n",
    "train_movie_data = df_train['movie_id'].map(movie_id_mapping)\n",
    "\n",
    "test_user_data = df_test['user_id'].map(user_id_mapping)\n",
    "test_movie_data = df_test['movie_id'].map(movie_id_mapping)\n",
    "\n",
    "# Get input variable-sizes\n",
    "users = len(user_id_mapping)\n",
    "movies = len(movie_id_mapping)"
   ]
  },
  {
   "cell_type": "code",
   "execution_count": 121,
   "metadata": {},
   "outputs": [],
   "source": [
    "index_to_movieId = {i: id for i, id in enumerate(df_filterd['movie_id'].unique())}\n",
    "with open('../data/movieId_to_index_embedding.json', 'w') as f:\n",
    "    json.dump(movie_id_mapping, f)\n",
    "with open('../data/index_to_movieId_embedding.json', 'w') as f:\n",
    "    json.dump(index_to_movieId, f)"
   ]
  },
  {
   "cell_type": "code",
   "execution_count": 91,
   "metadata": {},
   "outputs": [
    {
     "data": {
      "text/plain": [
       "0               0\n",
       "1               1\n",
       "2               2\n",
       "3               3\n",
       "4               4\n",
       "            ...  \n",
       "6899995    146395\n",
       "6899996     21373\n",
       "6899997     16951\n",
       "6899998     38068\n",
       "6899999    102267\n",
       "Name: user_id, Length: 6900000, dtype: int64"
      ]
     },
     "execution_count": 91,
     "metadata": {},
     "output_type": "execute_result"
    }
   ],
   "source": [
    "train_user_data"
   ]
  },
  {
   "cell_type": "code",
   "execution_count": 92,
   "metadata": {},
   "outputs": [
    {
     "data": {
      "text/plain": [
       "0            0\n",
       "1            1\n",
       "2            2\n",
       "3            3\n",
       "4            4\n",
       "          ... \n",
       "6899995    887\n",
       "6899996    566\n",
       "6899997    120\n",
       "6899998    333\n",
       "6899999    613\n",
       "Name: movie_id, Length: 6900000, dtype: int64"
      ]
     },
     "execution_count": 92,
     "metadata": {},
     "output_type": "execute_result"
    }
   ],
   "source": [
    "train_movie_data"
   ]
  },
  {
   "cell_type": "code",
   "execution_count": 95,
   "metadata": {},
   "outputs": [
    {
     "name": "stderr",
     "output_type": "stream",
     "text": [
      "C:\\Users\\Usuario\\AppData\\Local\\Temp\\ipykernel_17552\\4101516989.py:12: SettingWithCopyWarning: \n",
      "A value is trying to be set on a copy of a slice from a DataFrame.\n",
      "Try using .loc[row_indexer,col_indexer] = value instead\n",
      "\n",
      "See the caveats in the documentation: https://pandas.pydata.org/pandas-docs/stable/user_guide/indexing.html#returning-a-view-versus-a-copy\n",
      "  df_train['user_id'] = df_train['user_id'].astype(np.int64)\n",
      "C:\\Users\\Usuario\\AppData\\Local\\Temp\\ipykernel_17552\\4101516989.py:13: SettingWithCopyWarning: \n",
      "A value is trying to be set on a copy of a slice from a DataFrame.\n",
      "Try using .loc[row_indexer,col_indexer] = value instead\n",
      "\n",
      "See the caveats in the documentation: https://pandas.pydata.org/pandas-docs/stable/user_guide/indexing.html#returning-a-view-versus-a-copy\n",
      "  df_train['movie_id'] = df_train['movie_id'].astype(np.int64)\n",
      "C:\\Users\\Usuario\\AppData\\Local\\Temp\\ipykernel_17552\\4101516989.py:14: SettingWithCopyWarning: \n",
      "A value is trying to be set on a copy of a slice from a DataFrame.\n",
      "Try using .loc[row_indexer,col_indexer] = value instead\n",
      "\n",
      "See the caveats in the documentation: https://pandas.pydata.org/pandas-docs/stable/user_guide/indexing.html#returning-a-view-versus-a-copy\n",
      "  df_train['rating'] = df_train['rating'].astype(np.float64)\n",
      "C:\\Users\\Usuario\\AppData\\Local\\Temp\\ipykernel_17552\\4101516989.py:16: SettingWithCopyWarning: \n",
      "A value is trying to be set on a copy of a slice from a DataFrame.\n",
      "Try using .loc[row_indexer,col_indexer] = value instead\n",
      "\n",
      "See the caveats in the documentation: https://pandas.pydata.org/pandas-docs/stable/user_guide/indexing.html#returning-a-view-versus-a-copy\n",
      "  df_test['user_id'] = df_test['user_id'].astype(np.int64)\n",
      "C:\\Users\\Usuario\\AppData\\Local\\Temp\\ipykernel_17552\\4101516989.py:17: SettingWithCopyWarning: \n",
      "A value is trying to be set on a copy of a slice from a DataFrame.\n",
      "Try using .loc[row_indexer,col_indexer] = value instead\n",
      "\n",
      "See the caveats in the documentation: https://pandas.pydata.org/pandas-docs/stable/user_guide/indexing.html#returning-a-view-versus-a-copy\n",
      "  df_test['movie_id'] = df_test['movie_id'].astype(np.int64)\n",
      "C:\\Users\\Usuario\\AppData\\Local\\Temp\\ipykernel_17552\\4101516989.py:18: SettingWithCopyWarning: \n",
      "A value is trying to be set on a copy of a slice from a DataFrame.\n",
      "Try using .loc[row_indexer,col_indexer] = value instead\n",
      "\n",
      "See the caveats in the documentation: https://pandas.pydata.org/pandas-docs/stable/user_guide/indexing.html#returning-a-view-versus-a-copy\n",
      "  df_test['rating'] = df_test['rating'].astype(np.float64)\n"
     ]
    }
   ],
   "source": [
    "#convert tran_user_data to int\n",
    "#train_user_data.dropna(inplace=True)\n",
    "#train_movie_data.dropna(inplace=True)\n",
    "#test_user_data.dropna(inplace=True)\n",
    "#test_movie_data.dropna(inplace=True)\n",
    "\n",
    "#train_user_data = train_user_data.astype(np.int64)\n",
    "#train_movie_data = train_movie_data.astype(np.int64)\n",
    "#test_user_data = test_user_data.astype(np.int64)\n",
    "#test_movie_data = test_movie_data.astype(np.int64)\n",
    "\n",
    "df_train['user_id'] = df_train['user_id'].astype(np.int64)\n",
    "df_train['movie_id'] = df_train['movie_id'].astype(np.int64)\n",
    "df_train['rating'] = df_train['rating'].astype(np.float64)\n",
    "\n",
    "df_test['user_id'] = df_test['user_id'].astype(np.int64)\n",
    "df_test['movie_id'] = df_test['movie_id'].astype(np.int64)\n",
    "df_test['rating'] = df_test['rating'].astype(np.float64)"
   ]
  },
  {
   "cell_type": "code",
   "execution_count": 73,
   "metadata": {},
   "outputs": [
    {
     "name": "stdout",
     "output_type": "stream",
     "text": [
      "0 9429\n",
      "0 309\n"
     ]
    }
   ],
   "source": [
    "# view max avalue of testt\n",
    "print(train_user_data.min(), train_user_data.max())\n",
    "print(train_movie_data.min(), train_movie_data.max())"
   ]
  },
  {
   "cell_type": "code",
   "execution_count": 74,
   "metadata": {},
   "outputs": [
    {
     "name": "stdout",
     "output_type": "stream",
     "text": [
      "<class 'pandas.core.series.Series'>\n",
      "RangeIndex: 1360289 entries, 0 to 1360288\n",
      "Series name: user_id\n",
      "Non-Null Count    Dtype\n",
      "--------------    -----\n",
      "1360289 non-null  int64\n",
      "dtypes: int64(1)\n",
      "memory usage: 10.4 MB\n"
     ]
    }
   ],
   "source": [
    "train_user_data.info()"
   ]
  },
  {
   "cell_type": "code",
   "execution_count": 75,
   "metadata": {},
   "outputs": [
    {
     "name": "stdout",
     "output_type": "stream",
     "text": [
      "<class 'pandas.core.series.Series'>\n",
      "RangeIndex: 1360289 entries, 0 to 1360288\n",
      "Series name: movie_id\n",
      "Non-Null Count    Dtype\n",
      "--------------    -----\n",
      "1360289 non-null  int64\n",
      "dtypes: int64(1)\n",
      "memory usage: 10.4 MB\n"
     ]
    }
   ],
   "source": [
    "train_movie_data.info()"
   ]
  },
  {
   "cell_type": "code",
   "execution_count": 96,
   "metadata": {},
   "outputs": [
    {
     "name": "stdout",
     "output_type": "stream",
     "text": [
      "<class 'pandas.core.frame.DataFrame'>\n",
      "RangeIndex: 6900000 entries, 0 to 6899999\n",
      "Data columns (total 3 columns):\n",
      " #   Column    Dtype  \n",
      "---  ------    -----  \n",
      " 0   user_id   int64  \n",
      " 1   movie_id  int64  \n",
      " 2   rating    float64\n",
      "dtypes: float64(1), int64(2)\n",
      "memory usage: 157.9 MB\n"
     ]
    }
   ],
   "source": [
    "df_train.info()"
   ]
  },
  {
   "cell_type": "code",
   "execution_count": 97,
   "metadata": {},
   "outputs": [
    {
     "name": "stderr",
     "output_type": "stream",
     "text": [
      "d:\\OneDrive - Universidad Peruana de Ciencias\\Documents\\Carrera\\2024-1\\Applications of Data Science\\CC219-TP-TF-2024-1-CC92\\env\\Lib\\site-packages\\keras\\src\\layers\\core\\embedding.py:90: UserWarning: Argument `input_length` is deprecated. Just remove it.\n",
      "  warnings.warn(\n"
     ]
    },
    {
     "name": "stdout",
     "output_type": "stream",
     "text": [
      "\u001b[1m24258/24258\u001b[0m \u001b[32m━━━━━━━━━━━━━━━━━━━━\u001b[0m\u001b[37m\u001b[0m \u001b[1m655s\u001b[0m 27ms/step - loss: 0.9724 - val_loss: 0.7886\n"
     ]
    }
   ],
   "source": [
    "# Setup variables\n",
    "user_embedding_size = 20\n",
    "movie_embedding_size = 10\n",
    "\n",
    "\n",
    "##### Create model\n",
    "# Set input layers\n",
    "user_id_input = Input(shape=[1], name='user')\n",
    "movie_id_input = Input(shape=[1], name='movie')\n",
    "\n",
    "# Create embedding layers for users and movies\n",
    "user_embedding = Embedding(output_dim=user_embedding_size, \n",
    "                           input_dim=users,\n",
    "                           input_length=1, \n",
    "                           name='user_embedding')(user_id_input)\n",
    "movie_embedding = Embedding(output_dim=movie_embedding_size, \n",
    "                            input_dim=movies,\n",
    "                            input_length=1, \n",
    "                            name='item_embedding')(movie_id_input)\n",
    "\n",
    "# Reshape the embedding layers\n",
    "user_vector = Reshape([user_embedding_size])(user_embedding)\n",
    "movie_vector = Reshape([movie_embedding_size])(movie_embedding)\n",
    "\n",
    "# Concatenate the reshaped embedding layers\n",
    "concat = Concatenate()([user_vector, movie_vector])\n",
    "\n",
    "# Combine with dense layers\n",
    "dense = Dense(256)(concat)\n",
    "y = Dense(1)(dense)\n",
    "\n",
    "# Setup model\n",
    "model = Model(inputs=[user_id_input, movie_id_input], outputs=y)\n",
    "model.compile(loss='mse', optimizer='adam')\n",
    "\n",
    "\n",
    "# Fit model\n",
    "history = model.fit([train_user_data, train_movie_data],\n",
    "          df_train['rating'],\n",
    "          batch_size=256, \n",
    "          epochs=1,\n",
    "          validation_split=0.1,\n",
    "          shuffle=True)"
   ]
  },
  {
   "cell_type": "code",
   "execution_count": 98,
   "metadata": {},
   "outputs": [
    {
     "name": "stdout",
     "output_type": "stream",
     "text": [
      "\u001b[1m3125/3125\u001b[0m \u001b[32m━━━━━━━━━━━━━━━━━━━━\u001b[0m\u001b[37m\u001b[0m \u001b[1m2s\u001b[0m 686us/step\n",
      "\n",
      "\n",
      "Testing Result With Keras Deep Learning: 0.8899 RMSE\n"
     ]
    }
   ],
   "source": [
    "# Test model\n",
    "y_pred = model.predict([test_user_data, test_movie_data])\n",
    "y_true = df_test['rating'].values\n",
    "\n",
    "#  Compute RMSE\n",
    "rmse = np.sqrt(mean_squared_error(y_pred=y_pred, y_true=y_true))\n",
    "print('\\n\\nTesting Result With Keras Deep Learning: {:.4f} RMSE'.format(rmse))"
   ]
  },
  {
   "cell_type": "code",
   "execution_count": 99,
   "metadata": {},
   "outputs": [
    {
     "data": {
      "text/html": [
       "<pre style=\"white-space:pre;overflow-x:auto;line-height:normal;font-family:Menlo,'DejaVu Sans Mono',consolas,'Courier New',monospace\"><span style=\"font-weight: bold\">Model: \"functional_9\"</span>\n",
       "</pre>\n"
      ],
      "text/plain": [
       "\u001b[1mModel: \"functional_9\"\u001b[0m\n"
      ]
     },
     "metadata": {},
     "output_type": "display_data"
    },
    {
     "data": {
      "text/html": [
       "<pre style=\"white-space:pre;overflow-x:auto;line-height:normal;font-family:Menlo,'DejaVu Sans Mono',consolas,'Courier New',monospace\">┏━━━━━━━━━━━━━━━━━━━━━┳━━━━━━━━━━━━━━━━━━━┳━━━━━━━━━━━━┳━━━━━━━━━━━━━━━━━━━┓\n",
       "┃<span style=\"font-weight: bold\"> Layer (type)        </span>┃<span style=\"font-weight: bold\"> Output Shape      </span>┃<span style=\"font-weight: bold\">    Param # </span>┃<span style=\"font-weight: bold\"> Connected to      </span>┃\n",
       "┡━━━━━━━━━━━━━━━━━━━━━╇━━━━━━━━━━━━━━━━━━━╇━━━━━━━━━━━━╇━━━━━━━━━━━━━━━━━━━┩\n",
       "│ user (<span style=\"color: #0087ff; text-decoration-color: #0087ff\">InputLayer</span>)   │ (<span style=\"color: #00d7ff; text-decoration-color: #00d7ff\">None</span>, <span style=\"color: #00af00; text-decoration-color: #00af00\">1</span>)         │          <span style=\"color: #00af00; text-decoration-color: #00af00\">0</span> │ -                 │\n",
       "├─────────────────────┼───────────────────┼────────────┼───────────────────┤\n",
       "│ movie (<span style=\"color: #0087ff; text-decoration-color: #0087ff\">InputLayer</span>)  │ (<span style=\"color: #00d7ff; text-decoration-color: #00d7ff\">None</span>, <span style=\"color: #00af00; text-decoration-color: #00af00\">1</span>)         │          <span style=\"color: #00af00; text-decoration-color: #00af00\">0</span> │ -                 │\n",
       "├─────────────────────┼───────────────────┼────────────┼───────────────────┤\n",
       "│ user_embedding      │ (<span style=\"color: #00d7ff; text-decoration-color: #00d7ff\">None</span>, <span style=\"color: #00af00; text-decoration-color: #00af00\">1</span>, <span style=\"color: #00af00; text-decoration-color: #00af00\">20</span>)     │  <span style=\"color: #00af00; text-decoration-color: #00af00\">3,372,680</span> │ user[<span style=\"color: #00af00; text-decoration-color: #00af00\">0</span>][<span style=\"color: #00af00; text-decoration-color: #00af00\">0</span>]        │\n",
       "│ (<span style=\"color: #0087ff; text-decoration-color: #0087ff\">Embedding</span>)         │                   │            │                   │\n",
       "├─────────────────────┼───────────────────┼────────────┼───────────────────┤\n",
       "│ item_embedding      │ (<span style=\"color: #00d7ff; text-decoration-color: #00d7ff\">None</span>, <span style=\"color: #00af00; text-decoration-color: #00af00\">1</span>, <span style=\"color: #00af00; text-decoration-color: #00af00\">10</span>)     │    <span style=\"color: #00af00; text-decoration-color: #00af00\">104,170</span> │ movie[<span style=\"color: #00af00; text-decoration-color: #00af00\">0</span>][<span style=\"color: #00af00; text-decoration-color: #00af00\">0</span>]       │\n",
       "│ (<span style=\"color: #0087ff; text-decoration-color: #0087ff\">Embedding</span>)         │                   │            │                   │\n",
       "├─────────────────────┼───────────────────┼────────────┼───────────────────┤\n",
       "│ reshape_8 (<span style=\"color: #0087ff; text-decoration-color: #0087ff\">Reshape</span>) │ (<span style=\"color: #00d7ff; text-decoration-color: #00d7ff\">None</span>, <span style=\"color: #00af00; text-decoration-color: #00af00\">20</span>)        │          <span style=\"color: #00af00; text-decoration-color: #00af00\">0</span> │ user_embedding[<span style=\"color: #00af00; text-decoration-color: #00af00\">0</span>… │\n",
       "├─────────────────────┼───────────────────┼────────────┼───────────────────┤\n",
       "│ reshape_9 (<span style=\"color: #0087ff; text-decoration-color: #0087ff\">Reshape</span>) │ (<span style=\"color: #00d7ff; text-decoration-color: #00d7ff\">None</span>, <span style=\"color: #00af00; text-decoration-color: #00af00\">10</span>)        │          <span style=\"color: #00af00; text-decoration-color: #00af00\">0</span> │ item_embedding[<span style=\"color: #00af00; text-decoration-color: #00af00\">0</span>… │\n",
       "├─────────────────────┼───────────────────┼────────────┼───────────────────┤\n",
       "│ concatenate_4       │ (<span style=\"color: #00d7ff; text-decoration-color: #00d7ff\">None</span>, <span style=\"color: #00af00; text-decoration-color: #00af00\">30</span>)        │          <span style=\"color: #00af00; text-decoration-color: #00af00\">0</span> │ reshape_8[<span style=\"color: #00af00; text-decoration-color: #00af00\">0</span>][<span style=\"color: #00af00; text-decoration-color: #00af00\">0</span>],  │\n",
       "│ (<span style=\"color: #0087ff; text-decoration-color: #0087ff\">Concatenate</span>)       │                   │            │ reshape_9[<span style=\"color: #00af00; text-decoration-color: #00af00\">0</span>][<span style=\"color: #00af00; text-decoration-color: #00af00\">0</span>]   │\n",
       "├─────────────────────┼───────────────────┼────────────┼───────────────────┤\n",
       "│ dense_8 (<span style=\"color: #0087ff; text-decoration-color: #0087ff\">Dense</span>)     │ (<span style=\"color: #00d7ff; text-decoration-color: #00d7ff\">None</span>, <span style=\"color: #00af00; text-decoration-color: #00af00\">256</span>)       │      <span style=\"color: #00af00; text-decoration-color: #00af00\">7,936</span> │ concatenate_4[<span style=\"color: #00af00; text-decoration-color: #00af00\">0</span>]… │\n",
       "├─────────────────────┼───────────────────┼────────────┼───────────────────┤\n",
       "│ dense_9 (<span style=\"color: #0087ff; text-decoration-color: #0087ff\">Dense</span>)     │ (<span style=\"color: #00d7ff; text-decoration-color: #00d7ff\">None</span>, <span style=\"color: #00af00; text-decoration-color: #00af00\">1</span>)         │        <span style=\"color: #00af00; text-decoration-color: #00af00\">257</span> │ dense_8[<span style=\"color: #00af00; text-decoration-color: #00af00\">0</span>][<span style=\"color: #00af00; text-decoration-color: #00af00\">0</span>]     │\n",
       "└─────────────────────┴───────────────────┴────────────┴───────────────────┘\n",
       "</pre>\n"
      ],
      "text/plain": [
       "┏━━━━━━━━━━━━━━━━━━━━━┳━━━━━━━━━━━━━━━━━━━┳━━━━━━━━━━━━┳━━━━━━━━━━━━━━━━━━━┓\n",
       "┃\u001b[1m \u001b[0m\u001b[1mLayer (type)       \u001b[0m\u001b[1m \u001b[0m┃\u001b[1m \u001b[0m\u001b[1mOutput Shape     \u001b[0m\u001b[1m \u001b[0m┃\u001b[1m \u001b[0m\u001b[1m   Param #\u001b[0m\u001b[1m \u001b[0m┃\u001b[1m \u001b[0m\u001b[1mConnected to     \u001b[0m\u001b[1m \u001b[0m┃\n",
       "┡━━━━━━━━━━━━━━━━━━━━━╇━━━━━━━━━━━━━━━━━━━╇━━━━━━━━━━━━╇━━━━━━━━━━━━━━━━━━━┩\n",
       "│ user (\u001b[38;5;33mInputLayer\u001b[0m)   │ (\u001b[38;5;45mNone\u001b[0m, \u001b[38;5;34m1\u001b[0m)         │          \u001b[38;5;34m0\u001b[0m │ -                 │\n",
       "├─────────────────────┼───────────────────┼────────────┼───────────────────┤\n",
       "│ movie (\u001b[38;5;33mInputLayer\u001b[0m)  │ (\u001b[38;5;45mNone\u001b[0m, \u001b[38;5;34m1\u001b[0m)         │          \u001b[38;5;34m0\u001b[0m │ -                 │\n",
       "├─────────────────────┼───────────────────┼────────────┼───────────────────┤\n",
       "│ user_embedding      │ (\u001b[38;5;45mNone\u001b[0m, \u001b[38;5;34m1\u001b[0m, \u001b[38;5;34m20\u001b[0m)     │  \u001b[38;5;34m3,372,680\u001b[0m │ user[\u001b[38;5;34m0\u001b[0m][\u001b[38;5;34m0\u001b[0m]        │\n",
       "│ (\u001b[38;5;33mEmbedding\u001b[0m)         │                   │            │                   │\n",
       "├─────────────────────┼───────────────────┼────────────┼───────────────────┤\n",
       "│ item_embedding      │ (\u001b[38;5;45mNone\u001b[0m, \u001b[38;5;34m1\u001b[0m, \u001b[38;5;34m10\u001b[0m)     │    \u001b[38;5;34m104,170\u001b[0m │ movie[\u001b[38;5;34m0\u001b[0m][\u001b[38;5;34m0\u001b[0m]       │\n",
       "│ (\u001b[38;5;33mEmbedding\u001b[0m)         │                   │            │                   │\n",
       "├─────────────────────┼───────────────────┼────────────┼───────────────────┤\n",
       "│ reshape_8 (\u001b[38;5;33mReshape\u001b[0m) │ (\u001b[38;5;45mNone\u001b[0m, \u001b[38;5;34m20\u001b[0m)        │          \u001b[38;5;34m0\u001b[0m │ user_embedding[\u001b[38;5;34m0\u001b[0m… │\n",
       "├─────────────────────┼───────────────────┼────────────┼───────────────────┤\n",
       "│ reshape_9 (\u001b[38;5;33mReshape\u001b[0m) │ (\u001b[38;5;45mNone\u001b[0m, \u001b[38;5;34m10\u001b[0m)        │          \u001b[38;5;34m0\u001b[0m │ item_embedding[\u001b[38;5;34m0\u001b[0m… │\n",
       "├─────────────────────┼───────────────────┼────────────┼───────────────────┤\n",
       "│ concatenate_4       │ (\u001b[38;5;45mNone\u001b[0m, \u001b[38;5;34m30\u001b[0m)        │          \u001b[38;5;34m0\u001b[0m │ reshape_8[\u001b[38;5;34m0\u001b[0m][\u001b[38;5;34m0\u001b[0m],  │\n",
       "│ (\u001b[38;5;33mConcatenate\u001b[0m)       │                   │            │ reshape_9[\u001b[38;5;34m0\u001b[0m][\u001b[38;5;34m0\u001b[0m]   │\n",
       "├─────────────────────┼───────────────────┼────────────┼───────────────────┤\n",
       "│ dense_8 (\u001b[38;5;33mDense\u001b[0m)     │ (\u001b[38;5;45mNone\u001b[0m, \u001b[38;5;34m256\u001b[0m)       │      \u001b[38;5;34m7,936\u001b[0m │ concatenate_4[\u001b[38;5;34m0\u001b[0m]… │\n",
       "├─────────────────────┼───────────────────┼────────────┼───────────────────┤\n",
       "│ dense_9 (\u001b[38;5;33mDense\u001b[0m)     │ (\u001b[38;5;45mNone\u001b[0m, \u001b[38;5;34m1\u001b[0m)         │        \u001b[38;5;34m257\u001b[0m │ dense_8[\u001b[38;5;34m0\u001b[0m][\u001b[38;5;34m0\u001b[0m]     │\n",
       "└─────────────────────┴───────────────────┴────────────┴───────────────────┘\n"
      ]
     },
     "metadata": {},
     "output_type": "display_data"
    },
    {
     "data": {
      "text/html": [
       "<pre style=\"white-space:pre;overflow-x:auto;line-height:normal;font-family:Menlo,'DejaVu Sans Mono',consolas,'Courier New',monospace\"><span style=\"font-weight: bold\"> Total params: </span><span style=\"color: #00af00; text-decoration-color: #00af00\">10,455,131</span> (39.88 MB)\n",
       "</pre>\n"
      ],
      "text/plain": [
       "\u001b[1m Total params: \u001b[0m\u001b[38;5;34m10,455,131\u001b[0m (39.88 MB)\n"
      ]
     },
     "metadata": {},
     "output_type": "display_data"
    },
    {
     "data": {
      "text/html": [
       "<pre style=\"white-space:pre;overflow-x:auto;line-height:normal;font-family:Menlo,'DejaVu Sans Mono',consolas,'Courier New',monospace\"><span style=\"font-weight: bold\"> Trainable params: </span><span style=\"color: #00af00; text-decoration-color: #00af00\">3,485,043</span> (13.29 MB)\n",
       "</pre>\n"
      ],
      "text/plain": [
       "\u001b[1m Trainable params: \u001b[0m\u001b[38;5;34m3,485,043\u001b[0m (13.29 MB)\n"
      ]
     },
     "metadata": {},
     "output_type": "display_data"
    },
    {
     "data": {
      "text/html": [
       "<pre style=\"white-space:pre;overflow-x:auto;line-height:normal;font-family:Menlo,'DejaVu Sans Mono',consolas,'Courier New',monospace\"><span style=\"font-weight: bold\"> Non-trainable params: </span><span style=\"color: #00af00; text-decoration-color: #00af00\">0</span> (0.00 B)\n",
       "</pre>\n"
      ],
      "text/plain": [
       "\u001b[1m Non-trainable params: \u001b[0m\u001b[38;5;34m0\u001b[0m (0.00 B)\n"
      ]
     },
     "metadata": {},
     "output_type": "display_data"
    },
    {
     "data": {
      "text/html": [
       "<pre style=\"white-space:pre;overflow-x:auto;line-height:normal;font-family:Menlo,'DejaVu Sans Mono',consolas,'Courier New',monospace\"><span style=\"font-weight: bold\"> Optimizer params: </span><span style=\"color: #00af00; text-decoration-color: #00af00\">6,970,088</span> (26.59 MB)\n",
       "</pre>\n"
      ],
      "text/plain": [
       "\u001b[1m Optimizer params: \u001b[0m\u001b[38;5;34m6,970,088\u001b[0m (26.59 MB)\n"
      ]
     },
     "metadata": {},
     "output_type": "display_data"
    }
   ],
   "source": [
    "model.summary()"
   ]
  },
  {
   "cell_type": "code",
   "execution_count": 109,
   "metadata": {},
   "outputs": [
    {
     "data": {
      "text/plain": [
       "10417"
      ]
     },
     "execution_count": 109,
     "metadata": {},
     "output_type": "execute_result"
    }
   ],
   "source": [
    "# view quantity of keys in movie_id_mapping\n",
    "len(movie_id_mapping.keys())"
   ]
  },
  {
   "cell_type": "code",
   "execution_count": 321,
   "metadata": {},
   "outputs": [],
   "source": [
    "def predict_ratings_for_new_user(userId, new_user_interactions):\n",
    "    movie_id_mapping = {}\n",
    "    index_to_movieId = {}\n",
    "    with open('../data/movieId_to_index_embedding.json', 'r') as file:\n",
    "        movie_id_mapping = json.load(file)\n",
    "    with open('../data/index_to_movieId_embedding.json', 'r') as file:\n",
    "        index_to_movieId = json.load(file)\n",
    "    movie_id_mapping = {int(movie_id): index for movie_id, index in movie_id_mapping.items()}\n",
    "    index_to_movieId = {int(index): movie_id for index, movie_id in index_to_movieId.items()}\n",
    "    \n",
    "    # Ids de todas las peliculas\n",
    "    movie_ids = np.arange(10417)\n",
    "\n",
    "    # Convert the movie IDs to the internal IDs used by the model\n",
    "    movies_already_seen = []\n",
    "    for movie_id, rating in new_user_interactions.items():\n",
    "        index = movie_id_mapping[int(movie_id)]\n",
    "        movies_already_seen.append(index)\n",
    "    \n",
    "    # Filtrar las películas que el usuario ya ha visto\n",
    "    movie_ids_to_predict = np.setdiff1d(movie_ids, movies_already_seen)\n",
    "    #print(movie_ids_to_predict)\n",
    "    user_id_array = np.array([userId] * (10417 - len(new_user_interactions)))\n",
    "    #print(user_id_array)\n",
    "    # Generar predicciones para las películas que el usuario no ha visto\n",
    "    predicted_ratings = model.predict([user_id_array, movie_ids_to_predict])\n",
    "    # Ordenar las predicciones de mayor a menor\n",
    "    top_indices = np.argsort(predicted_ratings[:, 0])[::-1]\n",
    "\n",
    "    # Seleccionar los índices de las 10 mejores predicciones\n",
    "    top_10_indices = top_indices[:10]\n",
    "    #print(top_10_indices)\n",
    "    ## Imprimir las 10 mejores predicciones\n",
    "    #print(predicted_ratings[top_10_indices, 0])\n",
    "    # Ordenar las películas por calificación predicha de mayor a menor\n",
    "    #recommended_movie_indices = np.argsort(predicted_ratings[:, 0])[::-1]\n",
    "    ## Seleccionar los índices de las 10 películas más altas\n",
    "    #top_recommended_indices = recommended_movie_indices[:10]  # Selecciona solo los 10 primeros\n",
    "    \n",
    "    # Convertir los índices de las películas recomendadas a sus IDs originales\n",
    "    recommended_movie_ids = [index_to_movieId[int(index)] for index in top_10_indices]\n",
    "    return recommended_movie_ids\n",
    "    "
   ]
  },
  {
   "cell_type": "code",
   "execution_count": 322,
   "metadata": {},
   "outputs": [
    {
     "name": "stdout",
     "output_type": "stream",
     "text": [
      "[    0     1     2 ... 10414 10415 10416]\n",
      "[100 100 100 ... 100 100 100]\n",
      "\u001b[1m326/326\u001b[0m \u001b[32m━━━━━━━━━━━━━━━━━━━━\u001b[0m\u001b[37m\u001b[0m \u001b[1m0s\u001b[0m 703us/step\n",
      "[  65 4594 5248  899 2562 6234  599 1302  253 1701]\n",
      "[4.599387  4.5956903 4.5909376 4.543286  4.537885  4.536967  4.5239954\n",
      " 4.5164485 4.511561  4.5093236]\n",
      "IDs de películas recomendadas: [318, '1942', '26947', '318', 27033, 93834, 922, 926, 858, '1245']\n"
     ]
    }
   ],
   "source": [
    "# Films that the user has seen\n",
    "interactions = {'6520': 3, '27793': 3, '100': 3, '200': 3, '123': 3, '1248': 3}\n",
    "userId = 100\n",
    "print(f\"IDs de películas recomendadas: {predict_ratings_for_new_user(userId, interactions)}\")"
   ]
  },
  {
   "cell_type": "code",
   "execution_count": 323,
   "metadata": {},
   "outputs": [
    {
     "name": "stdout",
     "output_type": "stream",
     "text": [
      "[    0     1     2 ... 10414 10415 10416]\n",
      "[1 1 1 ... 1 1 1]\n",
      "\u001b[1m326/326\u001b[0m \u001b[32m━━━━━━━━━━━━━━━━━━━━\u001b[0m\u001b[37m\u001b[0m \u001b[1m0s\u001b[0m 904us/step\n",
      "[  65 4596 5251  899 2562 6238  599 1302  253 3464]\n",
      "[4.454901  4.451204  4.4464517 4.3988004 4.3933997 4.3924804 4.3795094\n",
      " 4.371962  4.3670745 4.366213 ]\n",
      "IDs de películas recomendadas: [318, 4806, 96966, '318', 27033, 167112, 922, 926, 858, '1248']\n"
     ]
    }
   ],
   "source": [
    "# Films that the user has seen\n",
    "interactions = {'123': 3}\n",
    "userId = 1\n",
    "print(f\"IDs de películas recomendadas: {predict_ratings_for_new_user(userId, interactions)}\")"
   ]
  },
  {
   "cell_type": "code",
   "execution_count": 229,
   "metadata": {},
   "outputs": [
    {
     "name": "stdout",
     "output_type": "stream",
     "text": [
      "\u001b[1m10/10\u001b[0m \u001b[32m━━━━━━━━━━━━━━━━━━━━\u001b[0m\u001b[37m\u001b[0m \u001b[1m0s\u001b[0m 889us/step\n",
      "IDs de películas recomendadas para el usuario 1: [ 65 253  51   2 215  90  14 290 196  38]\n"
     ]
    }
   ],
   "source": [
    "interactions = {'123': 3, '1248': 3}\n",
    "user_id_for_recommendation = 1\n",
    "# Ids de todas las peliculas\n",
    "movie_ids = np.arange(309)\n",
    "new_user_interactions = {int(movie_id): rating for movie_id, rating in interactions.items()}\n",
    "movies_already_seen = []\n",
    "\n",
    "for movie_id, rating in new_user_interactions.items():\n",
    "    index = movie_id_mapping[movie_id]\n",
    "    movies_already_seen.append(index)\n",
    "    \n",
    "# Filtrar las películas que el usuario ya ha visto\n",
    "movie_ids_to_predict = np.setdiff1d(movie_ids, movies_already_seen)\n",
    "# Generar predicciones para las películas que el usuario no ha visto\n",
    "user_id_array = np.array([user_id_for_recommendation] * len(movie_ids_to_predict))\n",
    "predicted_ratings = model.predict([user_id_array, movie_ids_to_predict])\n",
    "\n",
    "# Ordenar las películas por calificación predicha de mayor a menor\n",
    "recommended_movie_indices = np.argsort(predicted_ratings[:, 0])[::-1]\n",
    "# Seleccionar los índices de las 10 películas más altas\n",
    "top_recommended_indices = recommended_movie_indices[:10]  # Selecciona solo los 10 primeros\n",
    "\n",
    "# Convertir los índices de las películas recomendadas a sus IDs originales si es necesario\n",
    "top_recommended_movie_ids = movie_ids_to_predict[top_recommended_indices]  # Ajusta esto según tu mapeo de IDs\n",
    "\n",
    "print(f\"IDs de películas recomendadas para el usuario {user_id_for_recommendation}: {top_recommended_movie_ids}\")"
   ]
  },
  {
   "cell_type": "code",
   "execution_count": 214,
   "metadata": {},
   "outputs": [
    {
     "name": "stdout",
     "output_type": "stream",
     "text": [
      "\u001b[1m10/10\u001b[0m \u001b[32m━━━━━━━━━━━━━━━━━━━━\u001b[0m\u001b[37m\u001b[0m \u001b[1m0s\u001b[0m 892us/step\n",
      "IDs de películas recomendadas para el usuario 1: [ 65 253  51   2 215  90  14 290 196  38]\n"
     ]
    }
   ],
   "source": [
    "interactions = {'6520': 3, '27793': 3}\n",
    "user_id_for_recommendation = 1\n",
    "# Ids de todas las peliculas\n",
    "movie_ids = np.arange(309)\n",
    "new_user_interactions = {int(movie_id): rating for movie_id, rating in interactions.items()}\n",
    "movies_already_seen = []\n",
    "\n",
    "for movie_id, rating in new_user_interactions.items():\n",
    "    index = movie_id_mapping[movie_id]\n",
    "    movies_already_seen.append(index)\n",
    "    \n",
    "# Filtrar las películas que el usuario ya ha visto\n",
    "movie_ids_to_predict = np.setdiff1d(movie_ids, movies_already_seen)\n",
    "# Generar predicciones para las películas que el usuario no ha visto\n",
    "user_id_array = np.array([user_id_for_recommendation] * len(movie_ids_to_predict))\n",
    "predicted_ratings = model.predict([user_id_array, movie_ids_to_predict])\n",
    "\n",
    "# Ordenar las películas por calificación predicha de mayor a menor\n",
    "recommended_movie_indices = np.argsort(predicted_ratings[:, 0])[::-1]\n",
    "# Seleccionar los índices de las 10 películas más altas\n",
    "top_recommended_indices = recommended_movie_indices[:10]  # Selecciona solo los 10 primeros\n",
    "\n",
    "# Convertir los índices de las películas recomendadas a sus IDs originales si es necesario\n",
    "top_recommended_movie_ids = movie_ids_to_predict[top_recommended_indices]  # Ajusta esto según tu mapeo de IDs\n",
    "\n",
    "print(f\"IDs de películas recomendadas para el usuario {user_id_for_recommendation}: {top_recommended_movie_ids}\")"
   ]
  },
  {
   "cell_type": "code",
   "execution_count": 235,
   "metadata": {},
   "outputs": [
    {
     "name": "stdout",
     "output_type": "stream",
     "text": [
      "\u001b[1m10/10\u001b[0m \u001b[32m━━━━━━━━━━━━━━━━━━━━\u001b[0m\u001b[37m\u001b[0m \u001b[1m0s\u001b[0m 778us/step\n",
      "IDs de películas recomendadas para el usuario 4: [ 65 253  51   2 215  90  14 290 196  38]\n"
     ]
    }
   ],
   "source": [
    "# Id de usuario\n",
    "user_id_for_recommendation = 4  # Asegúrate de que este sea el índice mapeado, no el ID original\n",
    "# TODO AJUSTAR EL ID\n",
    "\n",
    "movie_ids = np.arange(309)  # Ajusta esto para incluir un rango más amplio de películas\n",
    "# Lista de películas que el usuario ya ha visto (estos deberían ser índices mapeados, no IDs originales)\n",
    "movies_already_seen = [0, 50, 28, 3] \n",
    "\n",
    "# Filtrar las películas que el usuario ya ha visto\n",
    "movie_ids_to_predict = np.setdiff1d(movie_ids, movies_already_seen)\n",
    "# Generar predicciones para las películas que el usuario no ha visto\n",
    "user_id_array = np.array([user_id_for_recommendation] * len(movie_ids_to_predict))\n",
    "predicted_ratings = model.predict([user_id_array, movie_ids_to_predict])\n",
    "\n",
    "# Ordenar las películas por calificación predicha de mayor a menor\n",
    "recommended_movie_indices = np.argsort(predicted_ratings[:, 0])[::-1]\n",
    "\n",
    "# Seleccionar los índices de las 10 películas más altas\n",
    "top_recommended_indices = recommended_movie_indices[:10]  # Selecciona solo los 10 primeros\n",
    "\n",
    "# Convertir los índices de las películas recomendadas a sus IDs originales si es necesario\n",
    "top_recommended_movie_ids = movie_ids_to_predict[top_recommended_indices]  # Ajusta esto según tu mapeo de IDs\n",
    "\n",
    "print(f\"IDs de películas recomendadas para el usuario {user_id_for_recommendation}: {top_recommended_movie_ids}\")"
   ]
  },
  {
   "cell_type": "code",
   "execution_count": 141,
   "metadata": {},
   "outputs": [
    {
     "name": "stderr",
     "output_type": "stream",
     "text": [
      "WARNING:absl:You are saving your model as an HDF5 file via `model.save()` or `keras.saving.save_model(model)`. This file format is considered legacy. We recommend using instead the native Keras format, e.g. `model.save('my_model.keras')` or `keras.saving.save_model(model, 'my_model.keras')`. \n"
     ]
    }
   ],
   "source": [
    "# Save the model\n",
    "model.save('../embeddings.h5')"
   ]
  }
 ],
 "metadata": {
  "kernelspec": {
   "display_name": "env",
   "language": "python",
   "name": "python3"
  },
  "language_info": {
   "codemirror_mode": {
    "name": "ipython",
    "version": 3
   },
   "file_extension": ".py",
   "mimetype": "text/x-python",
   "name": "python",
   "nbconvert_exporter": "python",
   "pygments_lexer": "ipython3",
   "version": "3.11.5"
  }
 },
 "nbformat": 4,
 "nbformat_minor": 2
}
