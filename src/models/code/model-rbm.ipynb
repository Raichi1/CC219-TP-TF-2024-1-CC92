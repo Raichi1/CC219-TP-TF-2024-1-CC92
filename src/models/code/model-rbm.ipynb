{
 "cells": [
  {
   "cell_type": "markdown",
   "metadata": {},
   "source": [
    "# IMPORTANDO LIBRERIAS"
   ]
  },
  {
   "cell_type": "code",
   "execution_count": 1,
   "metadata": {},
   "outputs": [],
   "source": [
    "import numpy as np\n",
    "import pandas as pd\n",
    "import tensorflow as tf\n",
    "import matplotlib.pyplot as plt\n",
    "from tensorflow.keras.models import Model\n",
    "from tensorflow.keras.optimizers import Adam\n",
    "from tensorflow.keras.layers import Input, Dense\n",
    "from sklearn.model_selection import train_test_split"
   ]
  },
  {
   "cell_type": "markdown",
   "metadata": {},
   "source": [
    "# CARGA DE DATOS\n"
   ]
  },
  {
   "cell_type": "code",
   "execution_count": 2,
   "metadata": {},
   "outputs": [],
   "source": [
    "df_ratings = pd.read_csv('../data/ratings.csv')"
   ]
  },
  {
   "cell_type": "code",
   "execution_count": 3,
   "metadata": {},
   "outputs": [
    {
     "name": "stdout",
     "output_type": "stream",
     "text": [
      "<class 'pandas.core.frame.DataFrame'>\n",
      "RangeIndex: 26024289 entries, 0 to 26024288\n",
      "Data columns (total 4 columns):\n",
      " #   Column     Dtype  \n",
      "---  ------     -----  \n",
      " 0   userId     int64  \n",
      " 1   movieId    int64  \n",
      " 2   rating     float64\n",
      " 3   timestamp  int64  \n",
      "dtypes: float64(1), int64(3)\n",
      "memory usage: 794.2 MB\n"
     ]
    }
   ],
   "source": [
    "df_ratings.info()"
   ]
  },
  {
   "cell_type": "code",
   "execution_count": 4,
   "metadata": {},
   "outputs": [
    {
     "data": {
      "text/html": [
       "<div>\n",
       "<style scoped>\n",
       "    .dataframe tbody tr th:only-of-type {\n",
       "        vertical-align: middle;\n",
       "    }\n",
       "\n",
       "    .dataframe tbody tr th {\n",
       "        vertical-align: top;\n",
       "    }\n",
       "\n",
       "    .dataframe thead th {\n",
       "        text-align: right;\n",
       "    }\n",
       "</style>\n",
       "<table border=\"1\" class=\"dataframe\">\n",
       "  <thead>\n",
       "    <tr style=\"text-align: right;\">\n",
       "      <th></th>\n",
       "      <th>userId</th>\n",
       "      <th>movieId</th>\n",
       "      <th>rating</th>\n",
       "      <th>timestamp</th>\n",
       "    </tr>\n",
       "  </thead>\n",
       "  <tbody>\n",
       "    <tr>\n",
       "      <th>0</th>\n",
       "      <td>1</td>\n",
       "      <td>110</td>\n",
       "      <td>1.0</td>\n",
       "      <td>1425941529</td>\n",
       "    </tr>\n",
       "    <tr>\n",
       "      <th>1</th>\n",
       "      <td>1</td>\n",
       "      <td>147</td>\n",
       "      <td>4.5</td>\n",
       "      <td>1425942435</td>\n",
       "    </tr>\n",
       "    <tr>\n",
       "      <th>2</th>\n",
       "      <td>1</td>\n",
       "      <td>858</td>\n",
       "      <td>5.0</td>\n",
       "      <td>1425941523</td>\n",
       "    </tr>\n",
       "    <tr>\n",
       "      <th>3</th>\n",
       "      <td>1</td>\n",
       "      <td>1221</td>\n",
       "      <td>5.0</td>\n",
       "      <td>1425941546</td>\n",
       "    </tr>\n",
       "    <tr>\n",
       "      <th>4</th>\n",
       "      <td>1</td>\n",
       "      <td>1246</td>\n",
       "      <td>5.0</td>\n",
       "      <td>1425941556</td>\n",
       "    </tr>\n",
       "  </tbody>\n",
       "</table>\n",
       "</div>"
      ],
      "text/plain": [
       "   userId  movieId  rating   timestamp\n",
       "0       1      110     1.0  1425941529\n",
       "1       1      147     4.5  1425942435\n",
       "2       1      858     5.0  1425941523\n",
       "3       1     1221     5.0  1425941546\n",
       "4       1     1246     5.0  1425941556"
      ]
     },
     "execution_count": 4,
     "metadata": {},
     "output_type": "execute_result"
    }
   ],
   "source": [
    "df_ratings.head(5)"
   ]
  },
  {
   "cell_type": "code",
   "execution_count": 5,
   "metadata": {},
   "outputs": [
    {
     "data": {
      "text/plain": [
       "userId       0\n",
       "movieId      0\n",
       "rating       0\n",
       "timestamp    0\n",
       "dtype: int64"
      ]
     },
     "execution_count": 5,
     "metadata": {},
     "output_type": "execute_result"
    }
   ],
   "source": [
    "df_ratings.isnull().sum()"
   ]
  },
  {
   "cell_type": "code",
   "execution_count": 6,
   "metadata": {},
   "outputs": [],
   "source": [
    "df_test = df_ratings[:1000000]"
   ]
  },
  {
   "cell_type": "markdown",
   "metadata": {},
   "source": [
    "# MODELAMIENTO"
   ]
  },
  {
   "cell_type": "code",
   "execution_count": 7,
   "metadata": {},
   "outputs": [],
   "source": [
    "user_item_matrix = df_test.pivot(index = 'userId', columns = 'movieId', values = 'rating')"
   ]
  },
  {
   "cell_type": "code",
   "execution_count": 8,
   "metadata": {},
   "outputs": [],
   "source": [
    "user_item_matrix_binary = ( user_item_matrix > 0 ).astype(int)"
   ]
  },
  {
   "cell_type": "code",
   "execution_count": 9,
   "metadata": {},
   "outputs": [],
   "source": [
    "train_data, test_data = train_test_split(user_item_matrix_binary, test_size=0.2, random_state = 42)"
   ]
  },
  {
   "cell_type": "code",
   "execution_count": 10,
   "metadata": {},
   "outputs": [],
   "source": [
    "# RBM parameters\n",
    "num_visible = num_items = user_item_matrix_binary.shape[1]\n",
    "num_hidden = 50\n",
    "batch_size = 64\n",
    "epochs = 10"
   ]
  },
  {
   "cell_type": "code",
   "execution_count": 11,
   "metadata": {},
   "outputs": [],
   "source": [
    "def ModelRBM(num_visible, num_hidden):\n",
    "    X = Input(shape=(num_visible,))\n",
    "    W = tf.Variable(tf.random.normal([num_visible, num_hidden], 0.01))\n",
    "    b_visible = tf.Variable(tf.random.normal([num_visible], 0.01))\n",
    "    b_hidden = tf.Variable(tf.random.normal([num_hidden], 0.01))\n",
    "\n",
    "    def sample_hidden(x):\n",
    "        return tf.nn.sigmoid(tf.matmul(x, W) + b_hidden)\n",
    "\n",
    "    def sample_visible(x):\n",
    "        return tf.nn.sigmoid(tf.matmul(x, tf.transpose(W)) + b_visible)\n",
    "\n",
    "    def gibbs_sample(k, x):\n",
    "        for i in range(k):\n",
    "            h = sample_hidden(x)\n",
    "            x = sample_visible(h)\n",
    "        return x\n",
    "\n",
    "    h = sample_hidden(X)\n",
    "    X_sample = gibbs_sample(10, X)\n",
    "    h_sample = sample_hidden(X_sample)\n",
    "\n",
    "    model = Model(inputs=X, outputs=[X_sample, h, h_sample])\n",
    "    model.compile(optimizer=Adam(0.01), loss='mean_squared_error')\n",
    "    return model"
   ]
  },
  {
   "cell_type": "code",
   "execution_count": 12,
   "metadata": {},
   "outputs": [],
   "source": [
    "# Build the RBM model\n",
    "def rbm_model(num_visible : int, num_hidden : int):\n",
    "    visible_layer = Input(shape=(num_visible,))\n",
    "    hidden_layer = Dense(num_hidden, activation='sigmoid')(visible_layer)\n",
    "    visible_layer_reconstructed = Dense(num_visible, activation='sigmoid')(hidden_layer)\n",
    "    return Model(inputs = visible_layer, outputs = visible_layer_reconstructed)"
   ]
  },
  {
   "cell_type": "code",
   "execution_count": 13,
   "metadata": {},
   "outputs": [],
   "source": [
    "rbm = rbm_model(num_visible, num_hidden)"
   ]
  },
  {
   "cell_type": "code",
   "execution_count": 14,
   "metadata": {},
   "outputs": [],
   "source": [
    "# Train the RBM model\n",
    "rbm.compile(optimizer = Adam(learning_rate = 0.0001), loss = 'mean_squared_error')"
   ]
  },
  {
   "cell_type": "code",
   "execution_count": 15,
   "metadata": {},
   "outputs": [
    {
     "name": "stdout",
     "output_type": "stream",
     "text": [
      "Epoch 1/10\n",
      "128/128 [==============================] - 35s 90ms/step - loss: 0.2085 - val_loss: 0.1624\n",
      "Epoch 2/10\n",
      "128/128 [==============================] - 10s 78ms/step - loss: 0.1260 - val_loss: 0.0953\n",
      "Epoch 3/10\n",
      "128/128 [==============================] - 9s 74ms/step - loss: 0.0757 - val_loss: 0.0596\n",
      "Epoch 4/10\n",
      "128/128 [==============================] - 10s 76ms/step - loss: 0.0492 - val_loss: 0.0405\n",
      "Epoch 5/10\n",
      "128/128 [==============================] - 10s 76ms/step - loss: 0.0347 - val_loss: 0.0296\n",
      "Epoch 6/10\n",
      "128/128 [==============================] - 10s 78ms/step - loss: 0.0261 - val_loss: 0.0229\n",
      "Epoch 7/10\n",
      "128/128 [==============================] - 10s 75ms/step - loss: 0.0207 - val_loss: 0.0186\n",
      "Epoch 8/10\n",
      "128/128 [==============================] - 10s 74ms/step - loss: 0.0171 - val_loss: 0.0156\n",
      "Epoch 9/10\n",
      "128/128 [==============================] - 10s 75ms/step - loss: 0.0145 - val_loss: 0.0134\n",
      "Epoch 10/10\n",
      "128/128 [==============================] - 10s 75ms/step - loss: 0.0127 - val_loss: 0.0119\n"
     ]
    },
    {
     "data": {
      "text/plain": [
       "<keras.callbacks.History at 0x11bc04beb88>"
      ]
     },
     "execution_count": 15,
     "metadata": {},
     "output_type": "execute_result"
    }
   ],
   "source": [
    "rbm.fit(train_data, train_data, batch_size = batch_size, epochs = epochs, shuffle = True, validation_data = (test_data, test_data))"
   ]
  },
  {
   "cell_type": "markdown",
   "metadata": {},
   "source": [
    "# Experiments"
   ]
  },
  {
   "cell_type": "code",
   "execution_count": 16,
   "metadata": {},
   "outputs": [],
   "source": [
    "# Extract the embeddings\n",
    "user_embedding = rbm.layers[1].get_weights()[0].T\n",
    "item_embedding = rbm.layers[2].get_weights()[0]"
   ]
  },
  {
   "cell_type": "code",
   "execution_count": 17,
   "metadata": {},
   "outputs": [],
   "source": [
    "# Paramaters for prediction of the top N movies for a user\n",
    "user_id = 1\n",
    "n_movies = 10"
   ]
  },
  {
   "cell_type": "code",
   "execution_count": 18,
   "metadata": {},
   "outputs": [],
   "source": [
    "# Function to recommend the top N movies for a user\n",
    "def n_recommendations(user_id : int, n : int):\n",
    "    user_movies = user_embedding[user_id - 1] \n",
    "    predicted_ratings = np.dot(user_embedding, user_movies)\n",
    "    recommended_movies = np.argsort(predicted_ratings)[::-1]\n",
    "    return recommended_movies[:n]"
   ]
  },
  {
   "cell_type": "code",
   "execution_count": 19,
   "metadata": {},
   "outputs": [
    {
     "name": "stdout",
     "output_type": "stream",
     "text": [
      "Top recomended movies for user 1 are [ 0 35  9 33 31 28 14 29 47 39]\n"
     ]
    }
   ],
   "source": [
    "print(f'Top recomended movies for user {user_id} are {n_recommendations(user_id, 10)}')"
   ]
  },
  {
   "cell_type": "code",
   "execution_count": 20,
   "metadata": {},
   "outputs": [],
   "source": [
    "# save the model\n",
    "rbm.save('../rbm.h5')"
   ]
  }
 ],
 "metadata": {
  "kernelspec": {
   "display_name": "Tensor",
   "language": "python",
   "name": "python3"
  },
  "language_info": {
   "codemirror_mode": {
    "name": "ipython",
    "version": 3
   },
   "file_extension": ".py",
   "mimetype": "text/x-python",
   "name": "python",
   "nbconvert_exporter": "python",
   "pygments_lexer": "ipython3",
   "version": "3.7.16"
  }
 },
 "nbformat": 4,
 "nbformat_minor": 2
}
