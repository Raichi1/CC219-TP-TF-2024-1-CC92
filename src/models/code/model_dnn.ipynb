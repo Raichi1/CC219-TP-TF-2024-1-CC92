{
  "cells": [
    {
      "cell_type": "code",
      "execution_count": 19,
      "metadata": {
        "id": "36cd5e84"
      },
      "outputs": [],
      "source": [
        "# Import necessary libraries\n",
        "import numpy as np\n",
        "import pandas as pd\n",
        "import tensorflow as tf\n",
        "import matplotlib.pyplot as plt\n",
        "from tensorflow.keras.models import Model, Sequential\n",
        "from tensorflow.keras.optimizers import Adam\n",
        "from tensorflow.keras.layers import Input, Dense, Dropout\n",
        "from sklearn.model_selection import train_test_split"
      ]
    },
    {
      "cell_type": "code",
      "execution_count": 20,
      "metadata": {
        "id": "fc4aa645"
      },
      "outputs": [],
      "source": [
        "# Load dataset\n",
        "df_ratings = pd.read_csv('../data/ratings_filtered.csv')\n"
      ]
    },
    {
      "cell_type": "code",
      "execution_count": 21,
      "metadata": {
        "colab": {
          "base_uri": "https://localhost:8080/"
        },
        "id": "7dfaf7c3",
        "outputId": "6cee6ad4-8092-4eb4-8529-82adbdeb1a0d"
      },
      "outputs": [
        {
          "name": "stdout",
          "output_type": "stream",
          "text": [
            "<class 'pandas.core.frame.DataFrame'>\n",
            "RangeIndex: 11016557 entries, 0 to 11016556\n",
            "Data columns (total 4 columns):\n",
            " #   Column     Dtype  \n",
            "---  ------     -----  \n",
            " 0   userId     int64  \n",
            " 1   movieId    int64  \n",
            " 2   rating     float64\n",
            " 3   timestamp  int64  \n",
            "dtypes: float64(1), int64(3)\n",
            "memory usage: 336.2 MB\n"
          ]
        }
      ],
      "source": [
        "# Display dataset information\n",
        "df_ratings.info()"
      ]
    },
    {
      "cell_type": "code",
      "execution_count": 22,
      "metadata": {
        "colab": {
          "base_uri": "https://localhost:8080/",
          "height": 206
        },
        "id": "496fc74d",
        "outputId": "821c00c2-153f-421c-9628-b742bb9e8a99"
      },
      "outputs": [
        {
          "data": {
            "text/html": [
              "<div>\n",
              "<style scoped>\n",
              "    .dataframe tbody tr th:only-of-type {\n",
              "        vertical-align: middle;\n",
              "    }\n",
              "\n",
              "    .dataframe tbody tr th {\n",
              "        vertical-align: top;\n",
              "    }\n",
              "\n",
              "    .dataframe thead th {\n",
              "        text-align: right;\n",
              "    }\n",
              "</style>\n",
              "<table border=\"1\" class=\"dataframe\">\n",
              "  <thead>\n",
              "    <tr style=\"text-align: right;\">\n",
              "      <th></th>\n",
              "      <th>userId</th>\n",
              "      <th>movieId</th>\n",
              "      <th>rating</th>\n",
              "      <th>timestamp</th>\n",
              "    </tr>\n",
              "  </thead>\n",
              "  <tbody>\n",
              "    <tr>\n",
              "      <th>0</th>\n",
              "      <td>1</td>\n",
              "      <td>110</td>\n",
              "      <td>1.0</td>\n",
              "      <td>1425941529</td>\n",
              "    </tr>\n",
              "    <tr>\n",
              "      <th>1</th>\n",
              "      <td>1</td>\n",
              "      <td>147</td>\n",
              "      <td>4.5</td>\n",
              "      <td>1425942435</td>\n",
              "    </tr>\n",
              "    <tr>\n",
              "      <th>2</th>\n",
              "      <td>1</td>\n",
              "      <td>858</td>\n",
              "      <td>5.0</td>\n",
              "      <td>1425941523</td>\n",
              "    </tr>\n",
              "    <tr>\n",
              "      <th>3</th>\n",
              "      <td>1</td>\n",
              "      <td>1246</td>\n",
              "      <td>5.0</td>\n",
              "      <td>1425941556</td>\n",
              "    </tr>\n",
              "    <tr>\n",
              "      <th>4</th>\n",
              "      <td>1</td>\n",
              "      <td>1968</td>\n",
              "      <td>4.0</td>\n",
              "      <td>1425942148</td>\n",
              "    </tr>\n",
              "  </tbody>\n",
              "</table>\n",
              "</div>"
            ],
            "text/plain": [
              "   userId  movieId  rating   timestamp\n",
              "0       1      110     1.0  1425941529\n",
              "1       1      147     4.5  1425942435\n",
              "2       1      858     5.0  1425941523\n",
              "3       1     1246     5.0  1425941556\n",
              "4       1     1968     4.0  1425942148"
            ]
          },
          "execution_count": 22,
          "metadata": {},
          "output_type": "execute_result"
        }
      ],
      "source": [
        "# Display first 5 rows of the dataset\n",
        "df_ratings.head()"
      ]
    },
    {
      "cell_type": "code",
      "execution_count": 23,
      "metadata": {
        "colab": {
          "base_uri": "https://localhost:8080/"
        },
        "id": "d305a4f1",
        "outputId": "982a733a-d688-4b9b-9e11-8f1f116187e5"
      },
      "outputs": [
        {
          "data": {
            "text/plain": [
              "userId       0\n",
              "movieId      0\n",
              "rating       0\n",
              "timestamp    0\n",
              "dtype: int64"
            ]
          },
          "execution_count": 23,
          "metadata": {},
          "output_type": "execute_result"
        }
      ],
      "source": [
        "# Check for missing values\n",
        "df_ratings.isnull().sum()"
      ]
    },
    {
      "cell_type": "code",
      "execution_count": 24,
      "metadata": {
        "id": "abcf9fe3"
      },
      "outputs": [],
      "source": [
        "# Create a test dataset\n",
        "df_test = df_ratings[:1000000]"
      ]
    },
    {
      "cell_type": "code",
      "execution_count": 25,
      "metadata": {
        "id": "99181c3e"
      },
      "outputs": [],
      "source": [
        "# Create user-item matrix\n",
        "user_item_matrix = df_test.pivot(index='userId', columns='movieId', values='rating')"
      ]
    },
    {
      "cell_type": "code",
      "execution_count": 26,
      "metadata": {
        "id": "367cfa5e"
      },
      "outputs": [],
      "source": [
        "# Binarize the user-item matrix\n",
        "user_item_matrix_binary = (user_item_matrix > 0).astype(int)"
      ]
    },
    {
      "cell_type": "code",
      "execution_count": 27,
      "metadata": {
        "id": "b964ebf5"
      },
      "outputs": [],
      "source": [
        "# Split the data into training and test sets\n",
        "train_data, test_data = train_test_split(user_item_matrix_binary, test_size=0.2, random_state=42)"
      ]
    },
    {
      "cell_type": "code",
      "execution_count": 28,
      "metadata": {
        "id": "ba21c9fa"
      },
      "outputs": [],
      "source": [
        "# Define the DNN model\n",
        "def build_dnn_model(input_dim):\n",
        "    model = Sequential()\n",
        "    model.add(Dense(128, activation='relu', input_dim=input_dim))\n",
        "    model.add(Dropout(0.2))\n",
        "    model.add(Dense(64, activation='relu'))\n",
        "    model.add(Dropout(0.2))\n",
        "    model.add(Dense(input_dim, activation='sigmoid'))\n",
        "    model.compile(optimizer=Adam(learning_rate=0.0001), loss='binary_crossentropy')\n",
        "    return model"
      ]
    },
    {
      "cell_type": "code",
      "execution_count": 29,
      "metadata": {
        "id": "1f5fb787"
      },
      "outputs": [],
      "source": [
        "# Build the DNN model\n",
        "num_visible = user_item_matrix_binary.shape[1]\n",
        "dnn = build_dnn_model(num_visible)"
      ]
    },
    {
      "cell_type": "code",
      "execution_count": 30,
      "metadata": {
        "colab": {
          "base_uri": "https://localhost:8080/"
        },
        "id": "8b4e9570",
        "outputId": "ef2f5b0a-d158-438d-a383-a10324511032"
      },
      "outputs": [
        {
          "name": "stdout",
          "output_type": "stream",
          "text": [
            "Epoch 1/10\n",
            "300/300 [==============================] - 24s 70ms/step - loss: 0.4274 - val_loss: 0.2029\n",
            "Epoch 2/10\n",
            "300/300 [==============================] - 18s 62ms/step - loss: 0.1603 - val_loss: 0.1216\n",
            "Epoch 3/10\n",
            "300/300 [==============================] - 19s 62ms/step - loss: 0.1019 - val_loss: 0.0763\n",
            "Epoch 4/10\n",
            "300/300 [==============================] - 19s 63ms/step - loss: 0.0579 - val_loss: 0.0450\n",
            "Epoch 5/10\n",
            "300/300 [==============================] - 19s 62ms/step - loss: 0.0396 - val_loss: 0.0355\n",
            "Epoch 6/10\n",
            "300/300 [==============================] - 19s 64ms/step - loss: 0.0334 - val_loss: 0.0314\n",
            "Epoch 7/10\n",
            "300/300 [==============================] - 17s 56ms/step - loss: 0.0303 - val_loss: 0.0288\n",
            "Epoch 8/10\n",
            "300/300 [==============================] - 17s 56ms/step - loss: 0.0283 - val_loss: 0.0273\n",
            "Epoch 9/10\n",
            "300/300 [==============================] - 14s 48ms/step - loss: 0.0272 - val_loss: 0.0262\n",
            "Epoch 10/10\n",
            "300/300 [==============================] - 16s 52ms/step - loss: 0.0263 - val_loss: 0.0254\n"
          ]
        },
        {
          "data": {
            "text/plain": [
              "<keras.callbacks.History at 0x25006364908>"
            ]
          },
          "execution_count": 30,
          "metadata": {},
          "output_type": "execute_result"
        }
      ],
      "source": [
        "# Train the DNN model\n",
        "dnn.fit(train_data, train_data, batch_size=64, epochs=10, shuffle=True, validation_data=(test_data, test_data))"
      ]
    },
    {
      "cell_type": "code",
      "execution_count": 31,
      "metadata": {
        "id": "b1287bfe"
      },
      "outputs": [],
      "source": [
        "# Extract the embeddings\n",
        "user_embedding = dnn.layers[0].get_weights()[0].T\n",
        "item_embedding = dnn.layers[2].get_weights()[0]"
      ]
    },
    {
      "cell_type": "code",
      "execution_count": 32,
      "metadata": {
        "id": "b442585d"
      },
      "outputs": [],
      "source": [
        "# Parameters for prediction of the top N movies for a user\n",
        "user_id = 1\n",
        "n_movies = 10"
      ]
    },
    {
      "cell_type": "code",
      "execution_count": 33,
      "metadata": {
        "id": "ef7edf8c"
      },
      "outputs": [],
      "source": [
        "# Function to recommend the top N movies for a user\n",
        "def n_recommendations(user_id, n):\n",
        "    user_movies = user_embedding[user_id - 1]\n",
        "    predicted_ratings = np.dot(user_embedding, user_movies)\n",
        "    recommended_movies = np.argsort(predicted_ratings)[::-1]\n",
        "    return recommended_movies[:n]"
      ]
    },
    {
      "cell_type": "code",
      "execution_count": 34,
      "metadata": {
        "colab": {
          "base_uri": "https://localhost:8080/"
        },
        "id": "eb2517ba",
        "outputId": "0b22d344-0e0d-4021-cc56-c03802f3450a"
      },
      "outputs": [
        {
          "name": "stdout",
          "output_type": "stream",
          "text": [
            "Top recommended movies for user 1 are [  0   8  20 109 115  75  31  76  72 108]\n"
          ]
        }
      ],
      "source": [
        "# Print the top recommended movies for a user\n",
        "print(f'Top recommended movies for user {user_id} are {n_recommendations(user_id, n_movies)}')"
      ]
    },
    {
      "cell_type": "code",
      "execution_count": 35,
      "metadata": {
        "colab": {
          "base_uri": "https://localhost:8080/"
        },
        "id": "4575ce05",
        "outputId": "65254447-0da1-47c3-bdea-1242a6719e9e"
      },
      "outputs": [],
      "source": [
        "# Save the DNN model\n",
        "dnn.save('../dnn.h5')"
      ]
    }
  ],
  "metadata": {
    "colab": {
      "provenance": []
    },
    "kernelspec": {
      "display_name": "Tensor",
      "language": "python",
      "name": "python3"
    },
    "language_info": {
      "codemirror_mode": {
        "name": "ipython",
        "version": 3
      },
      "file_extension": ".py",
      "mimetype": "text/x-python",
      "name": "python",
      "nbconvert_exporter": "python",
      "pygments_lexer": "ipython3",
      "version": "3.7.12"
    }
  },
  "nbformat": 4,
  "nbformat_minor": 0
}
